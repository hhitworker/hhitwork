# Titanic Survival Analysis
# -------------------------
# Небольшое исследование данных о пассажирах "Титаника"

# 1. Импорт библиотек
import pandas as pd
import seaborn as sns
import matplotlib.pyplot as plt
from sklearn.linear_model import LogisticRegression
from sklearn.model_selection import train_test_split
from sklearn.metrics import accuracy_score

# 2. Загрузка данных
# На Kaggle Titanic датасет доступен сразу:
data = pd.read_csv("/kaggle/input/titanic/train.csv")

# 3. Первичный обзор
print("Размер данных:", data.shape)
print(data.head())
print(data.info())
print(data.describe())

# 4. Исследовательский анализ (EDA)

## Выживаемость по полу
sns.countplot(x="Sex", hue="Survived", data=data)
plt.title("Выживаемость по полу")
plt.show()

## Выживаемость по классу каюты
sns.countplot(x="Pclass", hue="Survived", data=data)
plt.title("Выживаемость по классу каюты")
plt.show()

## Распределение возраста
sns.histplot(data=data, x="Age", bins=30, hue="Survived", kde=True)
plt.title("Распределение возраста и выживаемость")
plt.show()

## Выживаемость по числу родственников на борту
data["FamilySize"] = data["SibSp"] + data["Parch"]
sns.countplot(x="FamilySize", hue="Survived", data=data)
plt.title("Выживаемость по размеру семьи")
plt.show()

# 5. Простая модель машинного обучения (логистическая регрессия)

# Для простоты используем только числовые признаки
features = data[["Pclass", "Age", "SibSp", "Parch", "Fare"]].fillna(0)
target = data["Survived"]

X_train, X_test, y_train, y_test = train_test_split(features, target, test_size=0.2, random_state=42)

model = LogisticRegression(max_iter=1000)
model.fit(X_train, y_train)

preds = model.predict(X_test)
print("Accuracy модели:", accuracy_score(y_test, preds))

# 6. Итоги (заключение — лучше оформить в markdown-ячейке при заливке)
# - Женщины и дети выживали значительно чаще мужчин.
# - Пассажиры первого класса имели гораздо больше шансов.
# - Простая модель дала точность ~0.75, что уже неплохо для базовой версии.
# - Можно улучшить результат за счет более продвинутой обработки признаков.
